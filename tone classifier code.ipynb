{
 "cells": [
  {
   "cell_type": "code",
   "execution_count": 10,
   "id": "bee3ebe1-648f-4146-b0e0-6103895887c4",
   "metadata": {},
   "outputs": [
    {
     "name": "stdout",
     "output_type": "stream",
     "text": [
      "Detected Tone: Positive\n",
      "Rewritten Message: Your feedback is valuable. We'll assist you shortly!\n"
     ]
    },
    {
     "name": "stderr",
     "output_type": "stream",
     "text": [
      "[nltk_data] Downloading package punkt to\n",
      "[nltk_data]     C:\\Users\\kirth\\AppData\\Roaming\\nltk_data...\n",
      "[nltk_data]   Package punkt is already up-to-date!\n"
     ]
    }
   ],
   "source": [
    "# 1. Imports\n",
    "import pandas as pd\n",
    "import random\n",
    "from sklearn.feature_extraction.text import CountVectorizer\n",
    "from sklearn.naive_bayes import MultinomialNB\n",
    "import nltk\n",
    "\n",
    "# 2. Download NLTK punkt (only if needed)\n",
    "nltk.download('punkt')\n",
    "\n",
    "# 3. Load Dataset\n",
    "df = pd.read_excel('tone_classification_dataset.xlsx')  # Make sure this file is in your current directory\n",
    "\n",
    "# 4. Train Classifier\n",
    "vectorizer = CountVectorizer()\n",
    "X = vectorizer.fit_transform(df['Message'])\n",
    "y = df['Tone']\n",
    "model = MultinomialNB()\n",
    "model.fit(X, y)\n",
    "\n",
    "# 5. Tone Detection Function\n",
    "def detect_tone(message):\n",
    "    X_new = vectorizer.transform([message])\n",
    "    predicted_tone = model.predict(X_new)[0]\n",
    "    return predicted_tone\n",
    "\n",
    "# 6. Rewriter Templates\n",
    "templates = {\n",
    "    'positive': [\n",
    "        \"Thank you for your patience. We're committed to helping you.\",\n",
    "        \"Appreciate your message! We're working to resolve this quickly.\",\n",
    "        \"Your feedback is valuable. We'll assist you shortly!\"\n",
    "    ],\n",
    "    'neutral': [\n",
    "        \"Please share more details regarding your concern.\",\n",
    "        \"Kindly clarify your issue so we can assist.\",\n",
    "        \"We're reviewing your request. Please wait a moment.\"\n",
    "    ],\n",
    "    'negative': [\n",
    "        \"Unfortunately, the service isn’t meeting expectations.\",\n",
    "        \"I'm disappointed with the lack of progress.\",\n",
    "        \"This situation remains unresolved, and it's frustrating.\"\n",
    "    ]\n",
    "}\n",
    "\n",
    "# 7. Rewriter Function\n",
    "def rewrite_tone_advanced(message, target_tone):\n",
    "    tone = target_tone.lower()\n",
    "    return random.choice(templates.get(tone, [message]))\n",
    "\n",
    "# 8. Interactive Example\n",
    "# Input message and target tone\n",
    "input_message = \"I'm still waiting for your reply, and it's frustrating.\"\n",
    "target_tone = \"positive\"\n",
    "\n",
    "# Detect tone\n",
    "detected = detect_tone(input_message)\n",
    "print(\"Detected Tone:\", detected)\n",
    "\n",
    "# Rewrite message\n",
    "rewritten = rewrite_tone_advanced(input_message, target_tone)\n",
    "print(\"Rewritten Message:\", rewritten)\n"
   ]
  },
  {
   "cell_type": "code",
   "execution_count": 11,
   "id": "a1a58409-14f4-42a8-993d-da9f3c24a468",
   "metadata": {},
   "outputs": [],
   "source": [
    "def run_tone_pipeline(message, target_tone):\n",
    "    print(\"\\nINPUT MESSAGE:\", message)\n",
    "    detected = detect_tone(message)\n",
    "    rewritten = rewrite_tone_advanced(message, target_tone)\n",
    "    print(\"DETECTED TONE:\", detected)\n",
    "    print(\"REWRITTEN TO\", target_tone.upper() + \":\", rewritten)\n"
   ]
  },
  {
   "cell_type": "code",
   "execution_count": 12,
   "id": "1d283ca0-2dd7-4165-aa4d-fa84f67a7cb9",
   "metadata": {},
   "outputs": [
    {
     "name": "stdout",
     "output_type": "stream",
     "text": [
      "\n",
      "INPUT MESSAGE: I haven’t received any updates yet!\n",
      "DETECTED TONE: Negative\n",
      "REWRITTEN TO POSITIVE: Thank you for your patience. We're committed to helping you.\n"
     ]
    }
   ],
   "source": [
    "run_tone_pipeline(\"I haven’t received any updates yet!\", \"positive\")\n"
   ]
  },
  {
   "cell_type": "code",
   "execution_count": null,
   "id": "b293ed57-d4ba-4aa6-832b-f95cb486ec87",
   "metadata": {},
   "outputs": [],
   "source": []
  }
 ],
 "metadata": {
  "kernelspec": {
   "display_name": "Python 3 (ipykernel)",
   "language": "python",
   "name": "python3"
  },
  "language_info": {
   "codemirror_mode": {
    "name": "ipython",
    "version": 3
   },
   "file_extension": ".py",
   "mimetype": "text/x-python",
   "name": "python",
   "nbconvert_exporter": "python",
   "pygments_lexer": "ipython3",
   "version": "3.11.7"
  }
 },
 "nbformat": 4,
 "nbformat_minor": 5
}
